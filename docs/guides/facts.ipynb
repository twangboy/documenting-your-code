{
 "cells": [
  {
   "cell_type": "markdown",
   "id": "cc755826-6cff-413f-a59b-b5755eb249b8",
   "metadata": {},
   "source": [
    "# Guide to facts.py module"
   ]
  },
  {
   "cell_type": "code",
   "execution_count": 3,
   "id": "a37c9aab-9ecc-4fc0-aa2f-36b848c29aec",
   "metadata": {},
   "outputs": [],
   "source": [
    "from randomly.facts import generate_random_fact"
   ]
  },
  {
   "cell_type": "code",
   "execution_count": 4,
   "id": "7c81ce03-fd2a-41e8-b29c-65f3a4acecc3",
   "metadata": {},
   "outputs": [
    {
     "data": {
      "text/plain": [
       "'> In Aspen Colorado, you can have a maximum income of $104,000 and still receive government subsidized housing.\\n\\nSource: [djtech.net](http://www.djtech.net/humor/useless_facts.htm)'"
      ]
     },
     "execution_count": 4,
     "metadata": {},
     "output_type": "execute_result"
    }
   ],
   "source": [
    "generate_random_fact(output_format=\"txt\", language=\"en\")"
   ]
  },
  {
   "cell_type": "code",
   "execution_count": 6,
   "id": "8dd5dab3-abab-4771-ae03-8d2986ff5396",
   "metadata": {},
   "outputs": [
    {
     "data": {
      "text/plain": [
       "{'id': 'b56308f3-16dd-40f9-ad43-786e6db7544f',\n",
       " 'text': 'Because of the rotation of the earth, an object can be thrown farther if it is thrown west.',\n",
       " 'source': 'djtech.net',\n",
       " 'source_url': 'http://www.djtech.net/humor/useless_facts.htm',\n",
       " 'language': 'en',\n",
       " 'permalink': 'https://uselessfacts.jsph.pl/b56308f3-16dd-40f9-ad43-786e6db7544f'}"
      ]
     },
     "execution_count": 6,
     "metadata": {},
     "output_type": "execute_result"
    }
   ],
   "source": [
    "generate_random_fact(output_format=\"json\", language=\"en\")"
   ]
  },
  {
   "cell_type": "code",
   "execution_count": 7,
   "id": "59cebc96-c4d0-476c-a140-9c6149c01e9b",
   "metadata": {},
   "outputs": [
    {
     "data": {
      "text/plain": [
       "'> In the 1980`s American migraines increased by 60%.\\n\\nSource: [djtech.net](http://www.djtech.net/humor/useless_facts.htm)'"
      ]
     },
     "execution_count": 7,
     "metadata": {},
     "output_type": "execute_result"
    }
   ],
   "source": [
    "generate_random_fact(output_format=\"md\", language=\"en\")"
   ]
  },
  {
   "cell_type": "code",
   "execution_count": null,
   "id": "cad9aeb2-c1c4-4c4d-bcfc-35162eef3bf8",
   "metadata": {},
   "outputs": [],
   "source": []
  }
 ],
 "metadata": {
  "kernelspec": {
   "display_name": "Python 3 (ipykernel)",
   "language": "python",
   "name": "python3"
  },
  "language_info": {
   "codemirror_mode": {
    "name": "ipython",
    "version": 3
   },
   "file_extension": ".py",
   "mimetype": "text/x-python",
   "name": "python",
   "nbconvert_exporter": "python",
   "pygments_lexer": "ipython3",
   "version": "3.9.12"
  }
 },
 "nbformat": 4,
 "nbformat_minor": 5
}
