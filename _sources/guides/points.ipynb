{
 "cells": [
  {
   "cell_type": "markdown",
   "metadata": {},
   "source": [
    "# The `points` module"
   ]
  },
  {
   "cell_type": "markdown",
   "metadata": {},
   "source": [
    "This notebook demonstrates how to use the `randomly.points` module."
   ]
  },
  {
   "cell_type": "markdown",
   "metadata": {},
   "source": [
    "```{note}\n",
    "This assumes you have already [installed the `randomly` package](./install.md).\n",
    "```"
   ]
  },
  {
   "cell_type": "markdown",
   "metadata": {},
   "source": [
    "## Poisson points\n",
    "\n",
    "Currently, the module only contains a single function, `generate_poisson_points()`. This function will generate random points in a defined rectangular space.\n",
    "\n",
    "The function accepts two parameters:\n",
    "- `bounds`: a tuple `(minx, miny, maxx, maxy)` of the bounding box.\n",
    "- `rate`: theoretical events per unit area"
   ]
  },
  {
   "cell_type": "code",
   "execution_count": 1,
   "metadata": {},
   "outputs": [],
   "source": [
    "from randomly.points import generate_poisson_points"
   ]
  },
  {
   "cell_type": "markdown",
   "metadata": {},
   "source": [
    "Let's generate random points within a 100 x 100 square with origin at (0, 0) at a rate of 0.01 (1%)."
   ]
  },
  {
   "cell_type": "code",
   "execution_count": 35,
   "metadata": {},
   "outputs": [],
   "source": [
    "points = generate_poisson_points(bounds=(0, 0, 100, 100), rate=0.01)"
   ]
  },
  {
   "cell_type": "markdown",
   "metadata": {},
   "source": [
    "With an area of 10,000 square units, we would expect about 100 points. If we look at the shape of the output array, we should see somewhere around 100 points represented."
   ]
  },
  {
   "cell_type": "code",
   "execution_count": 36,
   "metadata": {},
   "outputs": [
    {
     "data": {
      "text/plain": [
       "(96, 2)"
      ]
     },
     "execution_count": 36,
     "metadata": {},
     "output_type": "execute_result"
    }
   ],
   "source": [
    "points.shape"
   ]
  },
  {
   "cell_type": "markdown",
   "metadata": {},
   "source": [
    "Our `points` variable is a set of X-Y coordinate pairs."
   ]
  },
  {
   "cell_type": "code",
   "execution_count": 37,
   "metadata": {},
   "outputs": [
    {
     "data": {
      "text/plain": [
       "array([[ 1.62918989, 83.59531928],\n",
       "       [52.36500554, 58.67577925],\n",
       "       [48.596886  , 91.35023164],\n",
       "       [55.35892759, 95.95828836],\n",
       "       [32.35550876, 54.36340863],\n",
       "       [98.37564203, 84.2794221 ],\n",
       "       [97.60766917, 71.43815447],\n",
       "       [98.28743969, 51.19720261],\n",
       "       [65.37004676, 10.11668841],\n",
       "       [48.2290034 , 94.61970909],\n",
       "       [43.45679031, 76.2195405 ],\n",
       "       [63.37514711, 45.35074923],\n",
       "       [86.58619917, 61.38050914],\n",
       "       [93.90290689, 28.59498862],\n",
       "       [32.62724486, 91.2304551 ],\n",
       "       [43.17923481, 32.42833906],\n",
       "       [67.7103018 , 66.59218316],\n",
       "       [22.15373116,  9.87925479],\n",
       "       [60.41406537, 86.35205139],\n",
       "       [ 1.98832508, 73.99240501],\n",
       "       [87.88856977, 88.10070991],\n",
       "       [19.22757528,  2.20276541],\n",
       "       [36.38855157, 45.50096503],\n",
       "       [68.41768063, 32.02082135],\n",
       "       [82.85386962, 45.55818199],\n",
       "       [52.4773011 , 31.96550507],\n",
       "       [38.78519273,  3.45618394],\n",
       "       [99.63606637, 28.9278186 ],\n",
       "       [75.66263912, 91.84579507],\n",
       "       [40.67798287, 55.73981414],\n",
       "       [65.98244734,  1.63771352],\n",
       "       [18.09642834, 72.49606405],\n",
       "       [18.74040063, 90.442535  ],\n",
       "       [27.80215489, 17.93471962],\n",
       "       [73.39344998, 99.99394134],\n",
       "       [19.07301635, 97.76280159],\n",
       "       [55.24747246, 28.14779952],\n",
       "       [67.35662929, 52.91946192],\n",
       "       [97.29296796, 55.65460009],\n",
       "       [58.59521028, 89.09099561],\n",
       "       [23.59139686, 72.22926003],\n",
       "       [77.49755826,  7.55048465],\n",
       "       [94.93625126, 16.79418914],\n",
       "       [91.44858464, 99.38793851],\n",
       "       [42.1805312 , 35.30600729],\n",
       "       [81.54571925, 39.16736193],\n",
       "       [31.21754128, 16.09457061],\n",
       "       [58.05463176, 84.03472288],\n",
       "       [50.75495167, 35.5593201 ],\n",
       "       [20.09785555, 74.30513505],\n",
       "       [ 0.93024305, 81.61575619],\n",
       "       [13.96635411, 42.55082063],\n",
       "       [60.22801893, 34.69739371],\n",
       "       [17.22055152, 37.58837538],\n",
       "       [25.5852376 , 62.61888201],\n",
       "       [88.00515064, 71.3494478 ],\n",
       "       [97.52937086, 96.93503355],\n",
       "       [71.82039881, 79.98044409],\n",
       "       [85.79720392, 78.68937159],\n",
       "       [95.17491299, 40.86368669],\n",
       "       [39.85819971,  0.5934776 ],\n",
       "       [39.50999404, 83.50848304],\n",
       "       [ 0.44115882, 51.50450662],\n",
       "       [ 2.8039469 ,  0.19678338],\n",
       "       [29.38824549, 91.22171241],\n",
       "       [37.83451124, 50.30971393],\n",
       "       [95.4044672 , 87.95224799],\n",
       "       [11.61325165,  8.81842045],\n",
       "       [93.75122993, 42.3962633 ],\n",
       "       [22.68110031, 72.1493441 ],\n",
       "       [43.88770548, 58.04822881],\n",
       "       [80.40321265, 58.60045847],\n",
       "       [73.02239623, 59.23850123],\n",
       "       [20.97844794, 21.71471576],\n",
       "       [60.5799645 , 46.75048858],\n",
       "       [29.08282936,  9.46836416],\n",
       "       [38.46837355, 46.78763897],\n",
       "       [48.33394249,  3.54452383],\n",
       "       [94.61166544, 82.93101787],\n",
       "       [58.35154033, 96.42670955],\n",
       "       [96.50082515, 63.05182245],\n",
       "       [67.5154125 , 84.46314936],\n",
       "       [61.26200394, 40.52973458],\n",
       "       [51.97595026, 10.63062726],\n",
       "       [90.57216297, 10.71432888],\n",
       "       [22.54856288, 91.71314233],\n",
       "       [62.14754205, 14.13342749],\n",
       "       [98.50548348, 93.02977115],\n",
       "       [31.94929236, 22.75216635],\n",
       "       [60.8919213 , 71.30804197],\n",
       "       [77.61116843, 55.56855077],\n",
       "       [ 0.64491332, 16.15938436],\n",
       "       [54.28102138, 76.87575196],\n",
       "       [48.7531679 , 60.8764084 ],\n",
       "       [96.73273159, 15.7497866 ],\n",
       "       [76.41170118,  8.94606267]])"
      ]
     },
     "execution_count": 37,
     "metadata": {},
     "output_type": "execute_result"
    }
   ],
   "source": [
    "points"
   ]
  },
  {
   "cell_type": "code",
   "execution_count": null,
   "metadata": {},
   "outputs": [],
   "source": []
  }
 ],
 "metadata": {
  "interpreter": {
   "hash": "aedbff82390d08e5d7207e67ba6325085fa5cd1b05329ca4a7b5d5ad7efe5a43"
  },
  "kernelspec": {
   "display_name": "Python 3.9.7 ('docs-tutorial')",
   "language": "python",
   "name": "python3"
  },
  "language_info": {
   "codemirror_mode": {
    "name": "ipython",
    "version": 3
   },
   "file_extension": ".py",
   "mimetype": "text/x-python",
   "name": "python",
   "nbconvert_exporter": "python",
   "pygments_lexer": "ipython3",
   "version": "3.9.7"
  },
  "orig_nbformat": 4
 },
 "nbformat": 4,
 "nbformat_minor": 2
}
